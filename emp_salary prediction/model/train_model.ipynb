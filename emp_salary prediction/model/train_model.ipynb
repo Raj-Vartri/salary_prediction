{
 "cells": [
  {
   "cell_type": "code",
   "execution_count": null,
   "id": "68e15543",
   "metadata": {},
   "outputs": [],
   "source": [
    "pip install --upgrade pip"
   ]
  },
  {
   "cell_type": "code",
   "execution_count": null,
   "id": "fb69129f",
   "metadata": {},
   "outputs": [],
   "source": [
    "%pip install pandas\n",
    "%pip install scikit-learn matplotlib "
   ]
  },
  {
   "cell_type": "code",
   "execution_count": null,
   "id": "6add09be",
   "metadata": {},
   "outputs": [],
   "source": [
    "%pip install seaborn joblib"
   ]
  },
  {
   "cell_type": "code",
   "execution_count": 5,
   "id": "d8d20bee",
   "metadata": {},
   "outputs": [],
   "source": [
    "import pandas as pd\n",
    "from sklearn.ensemble import RandomForestRegressor\n",
    "from sklearn.preprocessing import OneHotEncoder\n",
    "from sklearn.compose import ColumnTransformer\n",
    "from sklearn.pipeline import Pipeline\n",
    "import joblib"
   ]
  },
  {
   "cell_type": "code",
   "execution_count": 14,
   "id": "a2267420",
   "metadata": {},
   "outputs": [],
   "source": [
    "# Load data\n",
    "df = pd.read_csv('../data/adult.csv')\n",
    "df = df.replace('?', pd.NA).dropna()"
   ]
  },
  {
   "cell_type": "code",
   "execution_count": 15,
   "id": "ecc11577",
   "metadata": {},
   "outputs": [],
   "source": [
    "df[\"years_experience\"] = pd.to_numeric(df[\"years_experience\"], errors='coerce')\n",
    "df = df.dropna(subset=[\"years_experience\"])"
   ]
  },
  {
   "cell_type": "code",
   "execution_count": 16,
   "id": "a899f6b2",
   "metadata": {},
   "outputs": [],
   "source": [
    "# Filter for experience range 2–30 years\n",
    "df = df[(df[\"years_experience\"] >= 2) & (df[\"years_experience\"] <= 30)]"
   ]
  },
  {
   "cell_type": "code",
   "execution_count": 17,
   "id": "c478d215",
   "metadata": {},
   "outputs": [],
   "source": [
    "# Approximate salary mapping (INR)\n",
    "salary_map = {'<=50K': 340_000, '>50K': 800_000}\n",
    "df['salary_inr'] = df['income'].map(salary_map)"
   ]
  },
  {
   "cell_type": "code",
   "execution_count": 18,
   "id": "a5d2371e",
   "metadata": {},
   "outputs": [],
   "source": [
    "# Feature selection\n",
    "X = df[[\"age\", \"years_experience\", \"education\", \"occupation\", \"hours-per-week\", \"gender\"]]\n",
    "y = df[\"salary_inr\"]"
   ]
  },
  {
   "cell_type": "code",
   "execution_count": 19,
   "id": "9b0955b8",
   "metadata": {},
   "outputs": [],
   "source": [
    "# Preprocessing pipeline\n",
    "preprocessor = ColumnTransformer([\n",
    "    (\"cat\", OneHotEncoder(handle_unknown='ignore'), [\"education\", \"occupation\", \"gender\"])\n",
    "], remainder=\"passthrough\")"
   ]
  },
  {
   "cell_type": "code",
   "execution_count": 20,
   "id": "26a2e4c0",
   "metadata": {},
   "outputs": [],
   "source": [
    "model = Pipeline([\n",
    "    (\"prep\", preprocessor),\n",
    "    (\"reg\", RandomForestRegressor(n_estimators=100, random_state=42))\n",
    "])"
   ]
  },
  {
   "cell_type": "code",
   "execution_count": 21,
   "id": "4a1ba364",
   "metadata": {},
   "outputs": [
    {
     "name": "stdout",
     "output_type": "stream",
     "text": [
      "Model trained and saved!\n"
     ]
    }
   ],
   "source": [
    "model.fit(X, y)\n",
    "joblib.dump(model, '../salary_model.pkl')\n",
    "print(\"Model trained and saved!\")\n"
   ]
  }
 ],
 "metadata": {
  "kernelspec": {
   "display_name": "Python 3",
   "language": "python",
   "name": "python3"
  },
  "language_info": {
   "codemirror_mode": {
    "name": "ipython",
    "version": 3
   },
   "file_extension": ".py",
   "mimetype": "text/x-python",
   "name": "python",
   "nbconvert_exporter": "python",
   "pygments_lexer": "ipython3",
   "version": "3.11.0"
  }
 },
 "nbformat": 4,
 "nbformat_minor": 5
}
